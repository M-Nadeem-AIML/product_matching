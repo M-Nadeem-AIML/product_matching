{
 "cells": [
  {
   "cell_type": "code",
   "execution_count": 89,
   "id": "bd22e2f6-13ce-46e1-8551-9b305feb9e97",
   "metadata": {},
   "outputs": [],
   "source": [
    "import time\n",
    "import re\n",
    "import pandas as pd\n",
    "import numpy as np\n",
    "import jellyfish as jf\n",
    "from fuzzywuzzy import fuzz\n",
    "from fuzzywuzzy import process\n",
    "from sklearn.neural_network import MLPClassifier\n",
    "from xgboost import XGBClassifier\n",
    "from sklearn.dummy import DummyClassifier\n",
    "from sklearn.neighbors import KNeighborsClassifier\n",
    "from sklearn.tree import DecisionTreeClassifier\n",
    "from sklearn.ensemble import RandomForestClassifier\n",
    "from sklearn.ensemble import AdaBoostClassifier\n",
    "from sklearn.ensemble import GradientBoostingClassifier\n",
    "from sklearn.linear_model import Perceptron\n",
    "from sklearn.svm import SVC\n",
    "from sklearn.model_selection import train_test_split\n",
    "from sklearn.model_selection import GridSearchCV\n",
    "from sklearn.metrics import classification_report\n",
    "from sklearn.metrics import f1_score\n",
    "from sklearn.metrics import accuracy_score\n",
    "from sklearn.metrics import mean_absolute_error\n",
    "from sklearn.metrics import precision_score\n",
    "from sklearn.metrics import recall_score\n",
    "from sklearn.metrics import confusion_matrix\n",
    "from sklearn.metrics import roc_auc_score\n",
    "import warnings\n",
    "from tqdm import tqdm\n",
    "warnings.filterwarnings('ignore')"
   ]
  },
  {
   "cell_type": "code",
   "execution_count": 54,
   "id": "39e0bce8-8317-4b44-ab2e-7168d4a5d85d",
   "metadata": {},
   "outputs": [
    {
     "data": {
      "text/html": [
       "<div>\n",
       "<style scoped>\n",
       "    .dataframe tbody tr th:only-of-type {\n",
       "        vertical-align: middle;\n",
       "    }\n",
       "\n",
       "    .dataframe tbody tr th {\n",
       "        vertical-align: top;\n",
       "    }\n",
       "\n",
       "    .dataframe thead th {\n",
       "        text-align: right;\n",
       "    }\n",
       "</style>\n",
       "<table border=\"1\" class=\"dataframe\">\n",
       "  <thead>\n",
       "    <tr style=\"text-align: right;\">\n",
       "      <th></th>\n",
       "      <th>product</th>\n",
       "      <th>description</th>\n",
       "      <th>category_label</th>\n",
       "      <th>match</th>\n",
       "    </tr>\n",
       "  </thead>\n",
       "  <tbody>\n",
       "    <tr>\n",
       "      <th>0</th>\n",
       "      <td>Grey Speck Gran Vinyl Floor Tiles</td>\n",
       "      <td>Update your floor with a peel and stick vinyl ...</td>\n",
       "      <td>Flooring &amp; Tiling Clearance</td>\n",
       "      <td>1</td>\n",
       "    </tr>\n",
       "    <tr>\n",
       "      <th>1</th>\n",
       "      <td>Decorative Aggregates Blue Slate - 17kg</td>\n",
       "      <td>Blue Slate chips 30-50mm. This decorative surf...</td>\n",
       "      <td>Fencing, Decking &amp; Landscaping Deals</td>\n",
       "      <td>1</td>\n",
       "    </tr>\n",
       "    <tr>\n",
       "      <th>2</th>\n",
       "      <td>Decorative Aggregates Plum Slate - 17kg</td>\n",
       "      <td>Purple tones give this slate a rich but bright...</td>\n",
       "      <td>Fencing, Decking &amp; Landscaping Deals</td>\n",
       "      <td>1</td>\n",
       "    </tr>\n",
       "    <tr>\n",
       "      <th>3</th>\n",
       "      <td>Dec Aggs Cotswold Buff 10-20mm - 17kg</td>\n",
       "      <td>These creamy buff 10-20mm stones chips will br...</td>\n",
       "      <td>Fencing, Decking &amp; Landscaping Deals</td>\n",
       "      <td>1</td>\n",
       "    </tr>\n",
       "    <tr>\n",
       "      <th>4</th>\n",
       "      <td>Artificial Grass Rubber Tile - 0.3m</td>\n",
       "      <td>This grass topped tile is made from recycled r...</td>\n",
       "      <td>Fencing, Decking &amp; Landscaping Deals</td>\n",
       "      <td>1</td>\n",
       "    </tr>\n",
       "  </tbody>\n",
       "</table>\n",
       "</div>"
      ],
      "text/plain": [
       "                                   product  \\\n",
       "0        Grey Speck Gran Vinyl Floor Tiles   \n",
       "1  Decorative Aggregates Blue Slate - 17kg   \n",
       "2  Decorative Aggregates Plum Slate - 17kg   \n",
       "3    Dec Aggs Cotswold Buff 10-20mm - 17kg   \n",
       "4      Artificial Grass Rubber Tile - 0.3m   \n",
       "\n",
       "                                         description  \\\n",
       "0  Update your floor with a peel and stick vinyl ...   \n",
       "1  Blue Slate chips 30-50mm. This decorative surf...   \n",
       "2  Purple tones give this slate a rich but bright...   \n",
       "3  These creamy buff 10-20mm stones chips will br...   \n",
       "4  This grass topped tile is made from recycled r...   \n",
       "\n",
       "                         category_label  match  \n",
       "0           Flooring & Tiling Clearance      1  \n",
       "1  Fencing, Decking & Landscaping Deals      1  \n",
       "2  Fencing, Decking & Landscaping Deals      1  \n",
       "3  Fencing, Decking & Landscaping Deals      1  \n",
       "4  Fencing, Decking & Landscaping Deals      1  "
      ]
     },
     "execution_count": 54,
     "metadata": {},
     "output_type": "execute_result"
    }
   ],
   "source": [
    "df = pd.read_csv('../product_matching_synthetic.csv')\n",
    "df.rename(columns ={'internal_name':'description'}, inplace = True)\n",
    "df.rename(columns ={'external_name':'product'}, inplace = True)\n",
    "\n",
    "df.head()"
   ]
  },
  {
   "cell_type": "code",
   "execution_count": 57,
   "id": "aa54019e-6af9-478b-9954-8f21328c5a86",
   "metadata": {},
   "outputs": [],
   "source": [
    "df['description'] = df[\"description\"].map(str)\n"
   ]
  },
  {
   "cell_type": "code",
   "execution_count": 58,
   "id": "8b5d43e3-2934-4ce8-9e00-d5b00095b42d",
   "metadata": {},
   "outputs": [
    {
     "name": "stdout",
     "output_type": "stream",
     "text": [
      "<class 'pandas.core.frame.DataFrame'>\n",
      "RangeIndex: 519783 entries, 0 to 519782\n",
      "Data columns (total 4 columns):\n",
      " #   Column          Non-Null Count   Dtype \n",
      "---  ------          --------------   ----- \n",
      " 0   product         519783 non-null  object\n",
      " 1   description     519783 non-null  object\n",
      " 2   category_label  519695 non-null  object\n",
      " 3   match           519783 non-null  int64 \n",
      "dtypes: int64(1), object(3)\n",
      "memory usage: 15.9+ MB\n"
     ]
    }
   ],
   "source": [
    "df.info()"
   ]
  },
  {
   "cell_type": "code",
   "execution_count": 59,
   "id": "51655685-8b44-41e0-989e-22532cbd6ab5",
   "metadata": {},
   "outputs": [],
   "source": [
    "def matching_numbers(product, description):\n",
    "\n",
    "    external_numbers = set(re.findall(r'[0-9]+', product))\n",
    "    internal_numbers = set(re.findall(r'[0-9]+', description))    \n",
    "    union = external_numbers.union(internal_numbers)\n",
    "    intersection = external_numbers.intersection(internal_numbers)\n",
    "\n",
    "    if len(external_numbers)==0 and len(internal_numbers) == 0:\n",
    "        return 1\n",
    "    else:\n",
    "        return (len(intersection)/ len(union))"
   ]
  },
  {
   "cell_type": "code",
   "execution_count": 60,
   "id": "d41cab63-9907-4941-b3f2-6204ddcd670c",
   "metadata": {},
   "outputs": [],
   "source": [
    "def engineer_features(df):\n",
    "\n",
    "    df['description'] = df['description'].str.lower()\n",
    "    df['product'] = df['product'].str.lower()\n",
    "    \n",
    "    df['levenshtein_distance'] = df.apply(\n",
    "    lambda x: jf.levenshtein_distance(x['product'], \n",
    "                                      x['description']), axis=1)\n",
    "\n",
    "    df['hamming_distance'] = df.apply(\n",
    "    lambda x: jf.hamming_distance(x['product'], \n",
    "                                  x['description']), axis=1)\n",
    "\n",
    "    df['jaro_similarity'] = df.apply(\n",
    "    lambda x: jf.jaro_similarity(x['product'], \n",
    "                                  x['description']), axis=1)\n",
    "\n",
    "    df['match_rating_comparison'] = df.apply(\n",
    "    lambda x: jf.match_rating_comparison(x['product'], \n",
    "                                         x['description']), axis=1).fillna(0).astype(int)\n",
    "\n",
    "    df['ratio'] = df.apply(\n",
    "    lambda x: fuzz.ratio(x['product'], \n",
    "                         x['description']), axis=1)\n",
    "\n",
    "\n",
    "    df.replace([np.inf, -np.inf], np.nan, inplace=True)\n",
    "    df.fillna(value=0, inplace=True)\n",
    "\n",
    "    return df"
   ]
  },
  {
   "cell_type": "code",
   "execution_count": 61,
   "id": "15a9276a-8885-4580-a9a3-ea131686aae1",
   "metadata": {},
   "outputs": [],
   "source": [
    "df = engineer_features(df)\n"
   ]
  },
  {
   "cell_type": "code",
   "execution_count": 62,
   "id": "8a0e8140-6e6d-4193-a877-4b29b825e630",
   "metadata": {},
   "outputs": [
    {
     "data": {
      "text/plain": [
       "match                      1.000000\n",
       "jaro_similarity            0.129769\n",
       "ratio                      0.127881\n",
       "match_rating_comparison    0.124974\n",
       "levenshtein_distance      -0.010700\n",
       "hamming_distance          -0.010789\n",
       "Name: match, dtype: float64"
      ]
     },
     "execution_count": 62,
     "metadata": {},
     "output_type": "execute_result"
    }
   ],
   "source": [
    "df[df.columns[1:]].corr()['match'][:].sort_values(ascending=False)\n"
   ]
  },
  {
   "cell_type": "code",
   "execution_count": 68,
   "id": "0d95d14f-b2e4-4e9d-ac4e-84768f0da5a3",
   "metadata": {},
   "outputs": [],
   "source": [
    "X = df[['levenshtein_distance', 'hamming_distance',\n",
    "       'jaro_similarity','match_rating_comparison','ratio']].values\n",
    "y = df['match'].values\n",
    "\n",
    "X_train, X_test, y_train, y_test = train_test_split(X, y, test_size=0.2, random_state=1, stratify=y)"
   ]
  },
  {
   "cell_type": "code",
   "execution_count": 69,
   "id": "587749b5-8ff8-430a-9956-3dc87d1fd612",
   "metadata": {},
   "outputs": [
    {
     "data": {
      "text/html": [
       "<div>\n",
       "<style scoped>\n",
       "    .dataframe tbody tr th:only-of-type {\n",
       "        vertical-align: middle;\n",
       "    }\n",
       "\n",
       "    .dataframe tbody tr th {\n",
       "        vertical-align: top;\n",
       "    }\n",
       "\n",
       "    .dataframe thead th {\n",
       "        text-align: right;\n",
       "    }\n",
       "</style>\n",
       "<table border=\"1\" class=\"dataframe\">\n",
       "  <thead>\n",
       "    <tr style=\"text-align: right;\">\n",
       "      <th></th>\n",
       "      <th>model</th>\n",
       "      <th>accuracy</th>\n",
       "      <th>mae</th>\n",
       "      <th>precision</th>\n",
       "      <th>recall</th>\n",
       "      <th>f1</th>\n",
       "      <th>roc</th>\n",
       "      <th>run_time</th>\n",
       "      <th>tp</th>\n",
       "      <th>fp</th>\n",
       "      <th>tn</th>\n",
       "      <th>fn</th>\n",
       "    </tr>\n",
       "  </thead>\n",
       "  <tbody>\n",
       "    <tr>\n",
       "      <th>0</th>\n",
       "      <td>XGBClassifier</td>\n",
       "      <td>0.879296</td>\n",
       "      <td>0.120704</td>\n",
       "      <td>0.855841</td>\n",
       "      <td>0.322898</td>\n",
       "      <td>0.46889</td>\n",
       "      <td>0.656075</td>\n",
       "      <td>6.02</td>\n",
       "      <td>85870</td>\n",
       "      <td>933</td>\n",
       "      <td>5539</td>\n",
       "      <td>11615</td>\n",
       "    </tr>\n",
       "    <tr>\n",
       "      <th>1</th>\n",
       "      <td>DecisionTreeClassifier</td>\n",
       "      <td>0.929327</td>\n",
       "      <td>0.070673</td>\n",
       "      <td>0.760229</td>\n",
       "      <td>0.835082</td>\n",
       "      <td>0.7959</td>\n",
       "      <td>0.891517</td>\n",
       "      <td>0.07</td>\n",
       "      <td>82285</td>\n",
       "      <td>4518</td>\n",
       "      <td>14325</td>\n",
       "      <td>2829</td>\n",
       "    </tr>\n",
       "    <tr>\n",
       "      <th>2</th>\n",
       "      <td>RandomForestClassifier</td>\n",
       "      <td>0.958579</td>\n",
       "      <td>0.041421</td>\n",
       "      <td>0.916062</td>\n",
       "      <td>0.824531</td>\n",
       "      <td>0.86789</td>\n",
       "      <td>0.9048</td>\n",
       "      <td>1.62</td>\n",
       "      <td>85507</td>\n",
       "      <td>1296</td>\n",
       "      <td>14144</td>\n",
       "      <td>3010</td>\n",
       "    </tr>\n",
       "    <tr>\n",
       "      <th>3</th>\n",
       "      <td>AdaBoostClassifier</td>\n",
       "      <td>0.844253</td>\n",
       "      <td>0.155747</td>\n",
       "      <td>0.759849</td>\n",
       "      <td>0.08208</td>\n",
       "      <td>0.148156</td>\n",
       "      <td>0.538477</td>\n",
       "      <td>0.25</td>\n",
       "      <td>86358</td>\n",
       "      <td>445</td>\n",
       "      <td>1408</td>\n",
       "      <td>15746</td>\n",
       "    </tr>\n",
       "    <tr>\n",
       "      <th>4</th>\n",
       "      <td>MLP</td>\n",
       "      <td>0.844455</td>\n",
       "      <td>0.155545</td>\n",
       "      <td>0.696329</td>\n",
       "      <td>0.101726</td>\n",
       "      <td>0.177518</td>\n",
       "      <td>0.546479</td>\n",
       "      <td>5.37</td>\n",
       "      <td>86042</td>\n",
       "      <td>761</td>\n",
       "      <td>1745</td>\n",
       "      <td>15409</td>\n",
       "    </tr>\n",
       "  </tbody>\n",
       "</table>\n",
       "</div>"
      ],
      "text/plain": [
       "                    model  accuracy       mae precision    recall        f1  \\\n",
       "0           XGBClassifier  0.879296  0.120704  0.855841  0.322898   0.46889   \n",
       "1  DecisionTreeClassifier  0.929327  0.070673  0.760229  0.835082    0.7959   \n",
       "2  RandomForestClassifier  0.958579  0.041421  0.916062  0.824531   0.86789   \n",
       "3      AdaBoostClassifier  0.844253  0.155747  0.759849   0.08208  0.148156   \n",
       "4                     MLP  0.844455  0.155545  0.696329  0.101726  0.177518   \n",
       "\n",
       "        roc run_time     tp    fp     tn     fn  \n",
       "0  0.656075     6.02  85870   933   5539  11615  \n",
       "1  0.891517     0.07  82285  4518  14325   2829  \n",
       "2    0.9048     1.62  85507  1296  14144   3010  \n",
       "3  0.538477     0.25  86358   445   1408  15746  \n",
       "4  0.546479     5.37  86042   761   1745  15409  "
      ]
     },
     "execution_count": 69,
     "metadata": {},
     "output_type": "execute_result"
    }
   ],
   "source": [
    "def get_confusion_matrix_values(y_test, y_pred):\n",
    "    cm = confusion_matrix(y_test, y_pred)\n",
    "    return(cm[0][0], cm[0][1], cm[1][0], cm[1][1])\n",
    "\n",
    "classifiers = {\n",
    "    \"XGBClassifier\":XGBClassifier(n_estimators=1000, learning_rate=0.1),\n",
    "    \"DecisionTreeClassifier\":DecisionTreeClassifier(),\n",
    "    \"RandomForestClassifier\":RandomForestClassifier(),\n",
    "    \"AdaBoostClassifier\":AdaBoostClassifier(),\n",
    "    \"MLP\": MLPClassifier()\n",
    "}\n",
    "\n",
    "df_results = pd.DataFrame(columns=['model', 'accuracy', 'mae', 'precision',\n",
    "                                   'recall','f1','roc','run_time','tp','fp',\n",
    "                                   'tn','fn'])\n",
    "\n",
    "for key in classifiers:\n",
    "\n",
    "    start_time = time.time()\n",
    "    classifier = classifiers[key]\n",
    "    model = classifier.fit(X_train, y_train)\n",
    "    y_pred = model.predict(X_test)\n",
    "\n",
    "    mae = mean_absolute_error(y_test, y_pred)\n",
    "    accuracy = accuracy_score(y_test, y_pred)\n",
    "    precision = precision_score(y_test, y_pred, zero_division=0)\n",
    "    recall = recall_score(y_test, y_pred)\n",
    "    f1 = f1_score(y_test, y_pred, zero_division=0)\n",
    "    roc = roc_auc_score(y_test, y_pred)\n",
    "    classification = classification_report(y_test, y_pred, zero_division=0)\n",
    "    run_time = format(round((time.time() - start_time)/60,2))\n",
    "    tp, fp, fn, tn = get_confusion_matrix_values(y_test, y_pred)\n",
    "\n",
    "    row = {'model': key,\n",
    "           'accuracy': accuracy,\n",
    "           'mae': mae,\n",
    "           'precision': precision,\n",
    "           'recall': recall,\n",
    "           'f1': f1,\n",
    "           'roc': roc,\n",
    "           'run_time': run_time,\n",
    "           'tp': tp,\n",
    "           'fp': fp,\n",
    "           'tn': tn,\n",
    "           'fn': fn,\n",
    "          }\n",
    "    df_results = df_results.append(row, ignore_index=True)\n",
    "\n",
    "df_results.head()"
   ]
  },
  {
   "cell_type": "code",
   "execution_count": 70,
   "id": "2f5b4ec9-1bac-4cd7-aec2-b5dad0195f0b",
   "metadata": {},
   "outputs": [],
   "source": [
    "classifier = RandomForestClassifier(n_estimators=80)\n",
    "model = classifier.fit(X_train, y_train)\n",
    "y_pred = model.predict(X_test)"
   ]
  },
  {
   "cell_type": "code",
   "execution_count": 71,
   "id": "2f0378f5-a513-445e-a60e-4c6211bc3905",
   "metadata": {},
   "outputs": [
    {
     "name": "stdout",
     "output_type": "stream",
     "text": [
      "              precision    recall  f1-score   support\n",
      "\n",
      "       match       0.92      0.82      0.87     17154\n",
      "   not match       0.97      0.99      0.98     86803\n",
      "\n",
      "    accuracy                           0.96    103957\n",
      "   macro avg       0.94      0.90      0.92    103957\n",
      "weighted avg       0.96      0.96      0.96    103957\n",
      "\n"
     ]
    }
   ],
   "source": [
    "print(classification_report(y_test, y_pred, labels=[1, 0], \n",
    "                            target_names=['match', 'not match']))"
   ]
  },
  {
   "cell_type": "code",
   "execution_count": 72,
   "id": "6cbc9acf-eb3a-46be-a06b-64908f303b20",
   "metadata": {},
   "outputs": [
    {
     "data": {
      "text/html": [
       "<div>\n",
       "<style scoped>\n",
       "    .dataframe tbody tr th:only-of-type {\n",
       "        vertical-align: middle;\n",
       "    }\n",
       "\n",
       "    .dataframe tbody tr th {\n",
       "        vertical-align: top;\n",
       "    }\n",
       "\n",
       "    .dataframe thead th {\n",
       "        text-align: right;\n",
       "    }\n",
       "</style>\n",
       "<table border=\"1\" class=\"dataframe\">\n",
       "  <thead>\n",
       "    <tr style=\"text-align: right;\">\n",
       "      <th></th>\n",
       "      <th>predictions</th>\n",
       "      <th>actual</th>\n",
       "      <th>result</th>\n",
       "    </tr>\n",
       "  </thead>\n",
       "  <tbody>\n",
       "    <tr>\n",
       "      <th>103937</th>\n",
       "      <td>0</td>\n",
       "      <td>0</td>\n",
       "      <td>1</td>\n",
       "    </tr>\n",
       "    <tr>\n",
       "      <th>103938</th>\n",
       "      <td>1</td>\n",
       "      <td>1</td>\n",
       "      <td>1</td>\n",
       "    </tr>\n",
       "    <tr>\n",
       "      <th>103939</th>\n",
       "      <td>0</td>\n",
       "      <td>0</td>\n",
       "      <td>1</td>\n",
       "    </tr>\n",
       "    <tr>\n",
       "      <th>103940</th>\n",
       "      <td>0</td>\n",
       "      <td>0</td>\n",
       "      <td>1</td>\n",
       "    </tr>\n",
       "    <tr>\n",
       "      <th>103941</th>\n",
       "      <td>0</td>\n",
       "      <td>0</td>\n",
       "      <td>1</td>\n",
       "    </tr>\n",
       "    <tr>\n",
       "      <th>103942</th>\n",
       "      <td>0</td>\n",
       "      <td>1</td>\n",
       "      <td>0</td>\n",
       "    </tr>\n",
       "    <tr>\n",
       "      <th>103943</th>\n",
       "      <td>0</td>\n",
       "      <td>0</td>\n",
       "      <td>1</td>\n",
       "    </tr>\n",
       "    <tr>\n",
       "      <th>103944</th>\n",
       "      <td>0</td>\n",
       "      <td>0</td>\n",
       "      <td>1</td>\n",
       "    </tr>\n",
       "    <tr>\n",
       "      <th>103945</th>\n",
       "      <td>0</td>\n",
       "      <td>0</td>\n",
       "      <td>1</td>\n",
       "    </tr>\n",
       "    <tr>\n",
       "      <th>103946</th>\n",
       "      <td>0</td>\n",
       "      <td>0</td>\n",
       "      <td>1</td>\n",
       "    </tr>\n",
       "    <tr>\n",
       "      <th>103947</th>\n",
       "      <td>0</td>\n",
       "      <td>0</td>\n",
       "      <td>1</td>\n",
       "    </tr>\n",
       "    <tr>\n",
       "      <th>103948</th>\n",
       "      <td>1</td>\n",
       "      <td>1</td>\n",
       "      <td>1</td>\n",
       "    </tr>\n",
       "    <tr>\n",
       "      <th>103949</th>\n",
       "      <td>1</td>\n",
       "      <td>1</td>\n",
       "      <td>1</td>\n",
       "    </tr>\n",
       "    <tr>\n",
       "      <th>103950</th>\n",
       "      <td>0</td>\n",
       "      <td>0</td>\n",
       "      <td>1</td>\n",
       "    </tr>\n",
       "    <tr>\n",
       "      <th>103951</th>\n",
       "      <td>0</td>\n",
       "      <td>0</td>\n",
       "      <td>1</td>\n",
       "    </tr>\n",
       "    <tr>\n",
       "      <th>103952</th>\n",
       "      <td>0</td>\n",
       "      <td>0</td>\n",
       "      <td>1</td>\n",
       "    </tr>\n",
       "    <tr>\n",
       "      <th>103953</th>\n",
       "      <td>0</td>\n",
       "      <td>0</td>\n",
       "      <td>1</td>\n",
       "    </tr>\n",
       "    <tr>\n",
       "      <th>103954</th>\n",
       "      <td>1</td>\n",
       "      <td>1</td>\n",
       "      <td>1</td>\n",
       "    </tr>\n",
       "    <tr>\n",
       "      <th>103955</th>\n",
       "      <td>0</td>\n",
       "      <td>0</td>\n",
       "      <td>1</td>\n",
       "    </tr>\n",
       "    <tr>\n",
       "      <th>103956</th>\n",
       "      <td>1</td>\n",
       "      <td>1</td>\n",
       "      <td>1</td>\n",
       "    </tr>\n",
       "  </tbody>\n",
       "</table>\n",
       "</div>"
      ],
      "text/plain": [
       "        predictions  actual  result\n",
       "103937            0       0       1\n",
       "103938            1       1       1\n",
       "103939            0       0       1\n",
       "103940            0       0       1\n",
       "103941            0       0       1\n",
       "103942            0       1       0\n",
       "103943            0       0       1\n",
       "103944            0       0       1\n",
       "103945            0       0       1\n",
       "103946            0       0       1\n",
       "103947            0       0       1\n",
       "103948            1       1       1\n",
       "103949            1       1       1\n",
       "103950            0       0       1\n",
       "103951            0       0       1\n",
       "103952            0       0       1\n",
       "103953            0       0       1\n",
       "103954            1       1       1\n",
       "103955            0       0       1\n",
       "103956            1       1       1"
      ]
     },
     "execution_count": 72,
     "metadata": {},
     "output_type": "execute_result"
    }
   ],
   "source": [
    "results = pd.DataFrame(data={'predictions': y_pred, 'actual': y_test})\n",
    "results['result'] = np.where(results['predictions']==results['actual'], 1, 0)\n",
    "results.tail(20)"
   ]
  },
  {
   "cell_type": "code",
   "execution_count": 115,
   "id": "b16b5dab-c496-4ef8-b3a9-e3924027402c",
   "metadata": {},
   "outputs": [],
   "source": [
    "def get_closest_matches(product):\n",
    "\n",
    "    unique_descriptions = df['description'].unique().tolist()\n",
    "    closest_matches = process.extract(product, \n",
    "                  unique_descriptions, \n",
    "                  scorer=fuzz.token_set_ratio)\n",
    "\n",
    "    return closest_matches"
   ]
  },
  {
   "cell_type": "code",
   "execution_count": 116,
   "id": "07e1e639-d1a3-471f-a7bf-437a2559f2cb",
   "metadata": {},
   "outputs": [],
   "source": [
    "def prepare_data(product):\n",
    "\n",
    "    closest_matches = get_closest_matches(product)\n",
    "\n",
    "    df = pd.DataFrame(columns=['product', 'description',])\n",
    "\n",
    "    for match in closest_matches:\n",
    "        row = {'product': product, 'description': match[0]}\n",
    "        df = df.append(row, ignore_index=True)\n",
    "\n",
    "    return df"
   ]
  },
  {
   "cell_type": "code",
   "execution_count": 117,
   "id": "a223f4a4-1486-49f7-a021-78f6435305b6",
   "metadata": {},
   "outputs": [
    {
     "name": "stdout",
     "output_type": "stream",
     "text": [
      "                   product                                        description\n",
      "0  Homebase Top Soil - 25L  for lawn preparation and general planting, the...\n",
      "1  Homebase Top Soil - 25L  create a natural and contemporary look in your...\n",
      "2  Homebase Top Soil - 25L  this soap dispenser features a white plastic c...\n",
      "3  Homebase Top Soil - 25L  for creating new beds and borders or simply im...\n",
      "4  Homebase Top Soil - 25L  every inch industrial. franklin combines a mix...\n"
     ]
    }
   ],
   "source": [
    "closest_data = prepare_data(\"Homebase Top Soil - 25L\")\n",
    "print(closest_data)"
   ]
  },
  {
   "cell_type": "code",
   "execution_count": null,
   "id": "f3079e37-0a8a-4bf3-bc56-96bd9d6c7f44",
   "metadata": {},
   "outputs": [],
   "source": []
  },
  {
   "cell_type": "code",
   "execution_count": 118,
   "id": "c893e2a7-213f-4b9b-aec3-f02ad0aa042f",
   "metadata": {},
   "outputs": [],
   "source": [
    "data = engineer_features(closest_data)\n",
    "data = data[['levenshtein_distance', 'hamming_distance','jaro_similarity','match_rating_comparison','ratio']]"
   ]
  },
  {
   "cell_type": "code",
   "execution_count": 119,
   "id": "6799b429-c0ae-4217-9518-175d36b087b9",
   "metadata": {},
   "outputs": [],
   "source": [
    "y_pred = model.predict_proba(data)[:,1]"
   ]
  },
  {
   "cell_type": "code",
   "execution_count": 120,
   "id": "c781f07f-b6f9-4d0b-aa59-41452025cae8",
   "metadata": {},
   "outputs": [
    {
     "data": {
      "text/html": [
       "<div>\n",
       "<style scoped>\n",
       "    .dataframe tbody tr th:only-of-type {\n",
       "        vertical-align: middle;\n",
       "    }\n",
       "\n",
       "    .dataframe tbody tr th {\n",
       "        vertical-align: top;\n",
       "    }\n",
       "\n",
       "    .dataframe thead th {\n",
       "        text-align: right;\n",
       "    }\n",
       "</style>\n",
       "<table border=\"1\" class=\"dataframe\">\n",
       "  <thead>\n",
       "    <tr style=\"text-align: right;\">\n",
       "      <th></th>\n",
       "      <th>product</th>\n",
       "      <th>description</th>\n",
       "      <th>prediction</th>\n",
       "    </tr>\n",
       "  </thead>\n",
       "  <tbody>\n",
       "    <tr>\n",
       "      <th>0</th>\n",
       "      <td>homebase top soil - 25l</td>\n",
       "      <td>for lawn preparation and general planting, the...</td>\n",
       "      <td>0.9750</td>\n",
       "    </tr>\n",
       "    <tr>\n",
       "      <th>1</th>\n",
       "      <td>homebase top soil - 25l</td>\n",
       "      <td>create a natural and contemporary look in your...</td>\n",
       "      <td>0.0625</td>\n",
       "    </tr>\n",
       "    <tr>\n",
       "      <th>2</th>\n",
       "      <td>homebase top soil - 25l</td>\n",
       "      <td>this soap dispenser features a white plastic c...</td>\n",
       "      <td>0.0875</td>\n",
       "    </tr>\n",
       "    <tr>\n",
       "      <th>3</th>\n",
       "      <td>homebase top soil - 25l</td>\n",
       "      <td>for creating new beds and borders or simply im...</td>\n",
       "      <td>0.0125</td>\n",
       "    </tr>\n",
       "    <tr>\n",
       "      <th>4</th>\n",
       "      <td>homebase top soil - 25l</td>\n",
       "      <td>every inch industrial. franklin combines a mix...</td>\n",
       "      <td>0.1125</td>\n",
       "    </tr>\n",
       "  </tbody>\n",
       "</table>\n",
       "</div>"
      ],
      "text/plain": [
       "                   product                                        description  \\\n",
       "0  homebase top soil - 25l  for lawn preparation and general planting, the...   \n",
       "1  homebase top soil - 25l  create a natural and contemporary look in your...   \n",
       "2  homebase top soil - 25l  this soap dispenser features a white plastic c...   \n",
       "3  homebase top soil - 25l  for creating new beds and borders or simply im...   \n",
       "4  homebase top soil - 25l  every inch industrial. franklin combines a mix...   \n",
       "\n",
       "   prediction  \n",
       "0      0.9750  \n",
       "1      0.0625  \n",
       "2      0.0875  \n",
       "3      0.0125  \n",
       "4      0.1125  "
      ]
     },
     "execution_count": 120,
     "metadata": {},
     "output_type": "execute_result"
    }
   ],
   "source": [
    "data = data.assign(prediction=y_pred)\n",
    "data = data.merge(closest_data)\n",
    "data[['product','description','prediction']].head()"
   ]
  },
  {
   "cell_type": "code",
   "execution_count": 147,
   "id": "62abb9eb-2a28-49d1-b20e-468f548058f9",
   "metadata": {},
   "outputs": [],
   "source": [
    "path='./Data/jewsonProducts.csv'\n",
    "jewson=pd.read_csv(path)\n",
    "file=path.rsplit('/',1)\n",
    "supplier=file[1].rsplit('.',1)"
   ]
  },
  {
   "cell_type": "code",
   "execution_count": null,
   "id": "3b402b52-5194-40bb-a805-2af24d5a2a74",
   "metadata": {},
   "outputs": [
    {
     "name": "stderr",
     "output_type": "stream",
     "text": [
      " 36%|██████████████████████████████████████████████████▊                                                                                         | 1255/3454 [3:58:41<6:23:25, 10.46s/it]"
     ]
    }
   ],
   "source": [
    "df_tt=pd.DataFrame([])\n",
    "for i in tqdm(jewson['product']):\n",
    "    closest_data = prepare_data(i)\n",
    "    data = engineer_features(closest_data)\n",
    "    data = data[['levenshtein_distance', 'hamming_distance','jaro_similarity','match_rating_comparison','ratio']]\n",
    "    y_pred = model.predict_proba(data)[:,1]\n",
    "    data = data.assign(prediction=y_pred)\n",
    "    data = data.merge(closest_data)\n",
    "    data=data[['product','description','prediction']]\n",
    "    df_tt=pd.concat([df_tt, data], ignore_index = True)\n",
    "df_tt['supplier']=supplier[0]\n",
    "df_tt.to_csv('Result.csv',index=False)"
   ]
  },
  {
   "cell_type": "code",
   "execution_count": 29,
   "id": "f9ff1639-0491-49bf-9cfe-d2fff94e679e",
   "metadata": {},
   "outputs": [],
   "source": [
    "# import glob\n",
    "# import pandas as pd\n",
    "# from pathlib import Path\n",
    "# path = \"./Data\"\n",
    "# all_files = glob.glob(path + \"/*.csv\")\n",
    "\n",
    "# li = []\n",
    "\n",
    "# for filename in all_files:\n",
    "#     df = pd.read_csv(filename, index_col=None, header=0)\n",
    "#     df['suppliers']=filename\n",
    "#     li.append(df)\n",
    "\n",
    "# df_res = pd.concat(li, axis=0, ignore_index=True)\n",
    "\n"
   ]
  },
  {
   "cell_type": "code",
   "execution_count": 31,
   "id": "4fa3f26e-24f1-4d28-a1e5-816f180d020a",
   "metadata": {},
   "outputs": [],
   "source": [
    "# df_res['description'] = df_res[\"description\"].map(str)\n"
   ]
  },
  {
   "cell_type": "code",
   "execution_count": 32,
   "id": "7bd5bab2-0bc0-4971-81e2-635e61fc7179",
   "metadata": {},
   "outputs": [],
   "source": [
    "# df_get_engineer_features=df_res[['product','description']]"
   ]
  },
  {
   "cell_type": "code",
   "execution_count": 33,
   "id": "632894d9-43f3-4f01-ad8c-92985423950d",
   "metadata": {},
   "outputs": [],
   "source": [
    "# df1 = engineer_features(df_get_engineer_features)\n"
   ]
  },
  {
   "cell_type": "code",
   "execution_count": 146,
   "id": "dae72bf6-0361-4f7f-9a2a-0e546468318f",
   "metadata": {},
   "outputs": [],
   "source": [
    "# df1.head()"
   ]
  },
  {
   "cell_type": "code",
   "execution_count": null,
   "id": "c3f7b159-3d08-465d-a510-f2f3e34b15a3",
   "metadata": {},
   "outputs": [],
   "source": []
  },
  {
   "cell_type": "code",
   "execution_count": 35,
   "id": "514fd677-9edf-4a83-9456-c6950e91e54c",
   "metadata": {},
   "outputs": [],
   "source": [
    "# data = df1[['levenshtein_distance', 'hamming_distance','jaro_similarity','match_rating_comparison','ratio']]"
   ]
  },
  {
   "cell_type": "code",
   "execution_count": 36,
   "id": "9fb6af57-a7f0-4f9d-9ccf-0e6976403b8e",
   "metadata": {},
   "outputs": [],
   "source": [
    "# y_pred = model.predict_proba(data)[:,1]\n"
   ]
  },
  {
   "cell_type": "code",
   "execution_count": 37,
   "id": "b3e38739-5259-4d74-8844-b2a8e3906761",
   "metadata": {},
   "outputs": [],
   "source": [
    "# df_res['Prediction']=y_pred"
   ]
  },
  {
   "cell_type": "code",
   "execution_count": 38,
   "id": "7ae3baa8-f599-46c6-9104-aefc1fd746cc",
   "metadata": {},
   "outputs": [],
   "source": [
    "# df_res.drop(df_res[df_res['Prediction'] <0.5].index, inplace = True)\n"
   ]
  },
  {
   "cell_type": "code",
   "execution_count": 40,
   "id": "6b43c789-1780-4ea0-9eeb-d9fdcf1f519e",
   "metadata": {},
   "outputs": [],
   "source": [
    "# df_res.to_csv('Result.csv',index=False)"
   ]
  },
  {
   "cell_type": "code",
   "execution_count": 41,
   "id": "87039626-46ce-458b-928d-dc4653de39ad",
   "metadata": {},
   "outputs": [],
   "source": [
    "# import pickle\n",
    "# pickle.dump(model, open('best_model', 'wb'))"
   ]
  },
  {
   "cell_type": "code",
   "execution_count": 42,
   "id": "7b1c6651-fa89-4b61-b24b-67d32164daef",
   "metadata": {},
   "outputs": [],
   "source": [
    "# loaded_model = pickle.load(open('../best_model', 'rb'))\n",
    "# loaded_model = loaded_model.fit(X_train, y_train)\n",
    "# y_pred = loaded_model.predict(X_test)"
   ]
  },
  {
   "cell_type": "code",
   "execution_count": 145,
   "id": "1f10f26e-d062-4e72-9587-8170e99aba27",
   "metadata": {},
   "outputs": [],
   "source": [
    "# print(classification_report(y_test, y_pred, labels=[1, 0], target_names=['match', 'not match']))"
   ]
  },
  {
   "cell_type": "code",
   "execution_count": 144,
   "id": "9a7ac88a-392d-4ba3-8fb4-89d0577b2fd7",
   "metadata": {},
   "outputs": [],
   "source": [
    "# results = pd.DataFrame(data={'predictions': y_pred, 'actual': y_test})\n",
    "# results['result'] = np.where(results['predictions']==results['actual'], 1, 0)\n",
    "# results.head(20)"
   ]
  },
  {
   "cell_type": "code",
   "execution_count": null,
   "id": "da069d16-54bd-4b4a-b57c-d91121ded05a",
   "metadata": {},
   "outputs": [],
   "source": []
  }
 ],
 "metadata": {
  "kernelspec": {
   "display_name": "Python 3 (ipykernel)",
   "language": "python",
   "name": "python3"
  },
  "language_info": {
   "codemirror_mode": {
    "name": "ipython",
    "version": 3
   },
   "file_extension": ".py",
   "mimetype": "text/x-python",
   "name": "python",
   "nbconvert_exporter": "python",
   "pygments_lexer": "ipython3",
   "version": "3.9.12"
  }
 },
 "nbformat": 4,
 "nbformat_minor": 5
}
